{
 "cells": [
  {
   "cell_type": "code",
   "execution_count": 1,
   "id": "cb71de8b-8b42-4967-9af7-1b72f5fbd3d3",
   "metadata": {},
   "outputs": [],
   "source": [
    "import jieqi_game as game\n",
    "import numpy as np\n",
    "defaultGame = game.ChessBoard(game.ChessBoard.hStartposFen)\n",
    "ph = game.PositionHistory()\n",
    "ph.Reset(defaultGame, 0, 0)\n",
    "ph.SetViewpoint(game.ViewPoint.VP_JUDGE)\n",
    "det_game = game.DeterminizedGame(ph)\n",
    "det_game.determinize()"
   ]
  },
  {
   "cell_type": "code",
   "execution_count": 2,
   "id": "b19603a7-fd6b-42de-88c5-1f24dd4533f8",
   "metadata": {},
   "outputs": [
    {
     "name": "stdout",
     "output_type": "stream",
     "text": [
      "hhhhkhhhh/9/1h5h1/h1h1h1h1h/9/9/H1H1H1H1H/1H5H1/9/HHHHKHHHH w - - 0 1 || aabbccnnppppprr - AABBCCNNPPPPPRR\n",
      "hhhhkhhHh/9/1h5h1/h1h1h1h1h/9/9/H1H1H1H1H/1H7/9/HHHHKHHHH b - - 0 1 || aabccnnppppprr - AABBCCNNPPPPRR\n",
      "hhhhkhhHh/9/7h1/h1h1h1h1h/9/9/HnH1H1H1H/1H7/9/HHHHKHHHH w - - 1 2 || aabbccnnpppprr - AABCCNPPPPPRR\n",
      "hhhhkhhHh/9/7h1/h1h1h1h1h/9/8C/HnH1H1H2/1H7/9/HHHHKHHHH b - - 2 2 || aabccnppppprr - AABBCNNPPPPRR\n",
      "hhhhkhhHh/9/5p3/h1h1h1h1h/9/8C/HnH1H1H2/1H7/9/HHHHKHHHH w - - 3 3 || aabbcnnpppprr - AABCCNPPPPRR\n",
      "hhhhkhh1H/9/5p3/h1h1h1h1h/9/8C/HnH1H1H2/1H7/9/HHHHKHHHH b - - 0 3 || aabccnppppr - AABCNNPPPPRR\n",
      "hhhhkhh1H/9/5p3/2h1h1h1h/a8/8C/HnH1H1H2/1H7/9/HHHHKHHHH w - - 1 4 || aabcnnpppprr - ABCCNPPPPR\n",
      "hhhhkhh1H/9/5p3/2h1h1h1h/a8/8C/HnH1H1H2/1H2P4/9/HHHHKH1HH b - - 2 4 || abccnppppr - AABCNNPPPRR\n",
      "hhhhkhh1H/9/5p3/2h1h3h/a5p2/8C/HnH1H1H2/1H2P4/9/HHHHKH1HH w - - 3 5 || aabcnnppprr - ABCCNPPPR\n",
      "hhhhkhh1H/9/5p3/2h1h3h/a5p2/8C/HnH1H1H2/1H2P4/2N6/HHH1KH1HH b - - 4 5 || abccnpppr - AABCNPPPRR\n",
      "hhhh1hh1H/4k4/5p3/2h1h3h/a5p2/8C/HnH1H1H2/1H2P4/2N6/HHH1KH1HH w - - 5 6 || aabcnppprr - ABCCNPPPR\n",
      "hhhh1hh1H/4k4/5p3/2h1h3h/a5p2/1C7/HnH1H1H2/1H2P4/2N6/HHH1KH1HH b - - 6 6 || abccnpppr - AABCNPPPRR\n",
      "hh1h1hh1H/4k4/a4p3/2h1h3h/a5p2/1C7/HnH1H1H2/1H2P4/2N6/HHH1KH1HH w - - 7 7 || aabcnppprr - BCCNPPPR\n",
      "hh1h1hh1H/4k4/a4p3/2h1h3h/a5p2/1C7/HnH1H1H2/PH2P4/2N6/H1H1KH1HH b - - 8 7 || bccnpppr - AABCNPPRR\n",
      "h2h1hh1H/3pk4/a4p3/2h1h3h/a5p2/1C7/HnH1H1H2/PH2P4/2N6/H1H1KH1HH w - - 9 8 || aabcnpprr - BCCNPPR\n",
      "h2h1hh2/3pk4/a4pR2/2h1h3h/a5p2/1C7/HnH1H1H2/PH2P4/2N6/H1H1KH1HH b - - 10 8 || bccnppr - AABCNPPR\n",
      "h2h1hh2/3p1k3/a4pR2/2h1h3h/a5p2/1C7/HnH1H1H2/PH2P4/2N6/H1H1KH1HH w - - 11 9 || aabcnppr - BCCNPPR\n",
      "h2h1hh2/3p1k3/a4pR2/2h1h3h/a5p2/2C6/HnH1H1H2/PH2P4/2N6/H1H1KH1HH b - - 12 9 || bccnppr - AABCNPPR\n",
      "h4hh2/3pck3/a4pR2/2h1h3h/a5p2/2C6/HnH1H1H2/PH2P4/2N6/H1H1KH1HH w - - 13 10 || aabcnppr - BCNPPR\n",
      "h4hh2/3pck3/a4pR2/2h1h3h/a5p2/3C5/HnH1H1H2/PH2P4/2N6/H1H1KH1HH b - - 14 10 || bcnppr - AABCNPPR\n",
      "2r2hh2/3pck3/a4pR2/2h1h3h/a5p2/3C5/HnH1H1H2/PH2P4/2N6/H1H1KH1HH w - - 15 11 || aabcnppr - BCNPP\n",
      "2r2hh2/3pck3/a4pR2/2h1h3h/a5p2/3C2B2/HnH1H4/PH2P4/2N6/H1H1KH1HH b - - 16 11 || bcnpp - AACNPPR\n",
      "2r2hh2/3pck3/a4pR2/2h1h3h/a1n3p2/3C2B2/H1H1H4/PH2P4/2N6/H1H1KH1HH w - - 17 12 || aacnppr - BCNPP\n",
      "2r2hh2/3pck3/a4pR2/2h1h3h/a1n3p2/3C2B1N/H1H1H4/PH2P4/2N6/H1H1KH1H1 b - - 18 12 || bcnpp - AACPPR\n",
      "2r2hh2/3pck3/a4pR2/2h1h3h/a5p2/3C2B1N/H1HnH4/PH2P4/2N6/H1H1KH1H1 w - - 19 13 || aacppr - BCNPP\n",
      "2r2hh2/3pck3/a4pR2/2h1h3h/a5p2/2C3B1N/H1HnH4/PH2P4/2N6/H1H1KH1H1 b - - 20 13 || bcnpp - AACPPR\n",
      "r4hh2/3pck3/a4pR2/2h1h3h/a5p2/2C3B1N/H1HnH4/PH2P4/2N6/H1H1KH1H1 w - - 21 14 || aacppr - BCNPP\n",
      "r4hh2/3pck3/a4pR2/2h1h3h/a5p2/1C4B1N/H1HnH4/PH2P4/2N6/H1H1KH1H1 b - - 22 14 || bcnpp - AACPPR\n",
      "r4hh2/3pck3/a4pR2/2h1h3h/a8/1C4p1N/H1HnH4/PH2P4/2N6/H1H1KH1H1 w - - 0 15 || aacppr - BCNPP\n",
      "r4hh2/3pck3/a4pR2/2h1h3h/a8/1C4p1N/H1HnH4/P2BP4/2N6/H1H1KH1H1 b - - 1 15 || bcnpp - AACPPR\n",
      "r3chh2/3p1k3/a4pR2/2h1h3h/a8/1C4p1N/H1HnH4/P2BP4/2N6/H1H1KH1H1 w - - 2 16 || aacppr - BCNPP\n",
      "r3chh2/3p1k3/a4pR2/2h1h3h/a8/1C4p1N/H1HnH4/P2BP4/2N3R2/H1H1K2H1 b - - 3 16 || bcnpp - AACPP\n",
      "r4hh2/3p1k3/a3cpR2/2h1h3h/a8/1C4p1N/H1HnH4/P2BP4/2N3R2/H1H1K2H1 w - - 4 17 || aacpp - BCNPP\n",
      "r4hh2/3p1k3/a3cpR2/2h1h3h/a8/1C2P1p1N/H1Hn5/P2BP4/2N3R2/H1H1K2H1 b - - 5 17 || bcnpp - AACP\n",
      "r4hh2/1a1p1k3/4cpR2/2h1h3h/a8/1C2P1p1N/H1Hn5/P2BP4/2N3R2/H1H1K2H1 w - - 6 18 || aacp - BCNPP\n",
      "r4hh2/1a1p1k3/4cpR2/2h1h3h/a8/1C2P1R1N/H1Hn5/P2BP4/2N6/H1H1K2H1 b - - 0 18 || bcnpp - AACP\n",
      "r4hh2/1a1p1k3/5pR2/2h1h3h/a8/1C2c1R1N/H1Hn5/P2BP4/2N6/H1H1K2H1 w - - 0 19 || aacp - BCNPP\n",
      "r4hh2/1a1p1k3/5pR2/2h1h3h/a8/1C2c1R1N/H1Hn5/P2BP4/2N6/H1H2K1H1 b - - 1 19 || bcnpp - AACP\n",
      "r5h2/1a1p1kp2/5pR2/2h1h3h/a8/1C2c1R1N/H1Hn5/P2BP4/2N6/H1H2K1H1 w - - 2 20 || aacp - BCNP\n",
      "r5h2/1a1p1kp2/5pR2/2h1h3h/a8/1C2c1R1N/H1HN5/P2BP4/9/H1H2K1H1 b - - 0 20 || bcnp - AACP\n",
      "r5h2/3p1kp2/a4pR2/2h1h3h/a8/1C2c1R1N/H1HN5/P2BP4/9/H1H2K1H1 w - - 1 21 || aacp - BCNP\n",
      "rC4h2/3p1kp2/a4pR2/2h1h3h/a8/4c1R1N/H1HN5/P2BP4/9/H1H2K1H1 b - - 2 21 || bcnp - AACP\n",
      "rC4h2/3p1kp2/a4pR2/2h1h3h/a8/1c4R1N/H1HN5/P2BP4/9/H1H2K1H1 w - - 3 22 || aacp - BCNP\n",
      "rC4h2/3p1kp2/a4pR2/2h1h3h/a8/1c1R4N/H1HN5/P2BP4/9/H1H2K1H1 b - - 4 22 || bcnp - AACP\n",
      "rC4h2/3p1kp2/a4pR2/2h1h3h/a8/3R4N/H1HN5/P2BP4/1c7/H1H2K1H1 w - - 5 23 || aacp - BCNP\n",
      "rC4h2/3p1kp2/a4R3/2h1h3h/a8/3R4N/H1HN5/P2BP4/1c7/H1H2K1H1 b - - 0 23 || bcnp - AACP\n",
      "rC4h2/3pk1p2/a4R3/2h1h3h/a8/3R4N/H1HN5/P2BP4/1c7/H1H2K1H1 w - - 1 24 || aacp - BCNP\n",
      "rC4h2/3pk1p2/a4R3/2h1h3h/a8/5R2N/H1HN5/P2BP4/1c7/H1H2K1H1 b - - 2 24 || bcnp - AACP\n",
      "rC4h2/4k1p2/a2p1R3/2h1h3h/a8/5R2N/H1HN5/P2BP4/1c7/H1H2K1H1 w - - 3 25 || aacp - BCNP\n",
      "rC4h2/4k1p2/a2p1R3/2h1h3h/a8/7RN/H1HN5/P2BP4/1c7/H1H2K1H1 b - - 4 25 || bcnp - AACP\n"
     ]
    }
   ],
   "source": [
    "for i in range(50):\n",
    "    FEN = f\"{game.GetFen(ph.Last())} || {ph.Last().our_dark().pieces[:15]} - {ph.Last().their_dark().pieces[:15].upper()}\"\n",
    "    print(FEN)\n",
    "    if ph.ComputeGameResult() != game.GameResult.UNDECIDED:\n",
    "        break\n",
    "    board = ph.Last().GetBoard()\n",
    "    moves = board.GenerateLegalMoves()\n",
    "    trait = board.GetMoveTraits(moves)\n",
    "    trait_score = np.ones((len(trait)), dtype = np.float32)\n",
    "    traits = np.array(trait, dtype = np.uint8)\n",
    "    trait_score[traits & 1 == 1] *= 1.2\n",
    "    trait_score[traits & 2 == 2] *= 1.2\n",
    "    trait_score[traits & 4 == 4] *= 1.2\n",
    "    trait_score[traits & 8 == 8] *= 10\n",
    "    choice = np.random.choice(len(trait), p=trait_score/np.sum(trait_score))\n",
    "    # print(f\"{moves[choice]} is{\" reveal\" if traits[choice]&1 else \"\"}{\" capture\" if traits[choice]&2 else \"\"}{\" (of dark)\" if traits[choice]&4 else \"\"}{\" mate\" if traits[choice]&8 else \"\"}\")\n",
    "    det_game.append(moves[choice])"
   ]
  },
  {
   "cell_type": "code",
   "execution_count": 3,
   "id": "c3c95064-cef5-4e3b-b63d-f68d9faf6611",
   "metadata": {},
   "outputs": [],
   "source": [
    "pos = ph.Last()"
   ]
  },
  {
   "cell_type": "code",
   "execution_count": 4,
   "id": "e0a626fb-a1db-42a3-a380-8702a95c3700",
   "metadata": {},
   "outputs": [
    {
     "data": {
      "text/plain": [
       "'h3kc3/2ap1rb2/n8/h1h1h1h1p/6r2/5c3/H5H1h/P3N1P1A/B2N5/1HR1KC2R w - - 20 26|app-ABNPP'"
      ]
     },
     "execution_count": 4,
     "metadata": {},
     "output_type": "execute_result"
    }
   ],
   "source": [
    "game.GetExtFen(pos)"
   ]
  },
  {
   "cell_type": "code",
   "execution_count": 13,
   "id": "67e95ae3-2bd5-4042-bb53-be3d0e94596b",
   "metadata": {},
   "outputs": [],
   "source": [
    "pos2 = game.Position.FromFen(\"hh1hkhhhh/9/4c3p/h1h1h1h1h/9/4N2R1/H1H3HpH/7H1/9/HHHHKHHHH w - - 6 4|aabbccnpppppr-AABBCNNPPPRR\")"
   ]
  },
  {
   "cell_type": "code",
   "execution_count": 14,
   "id": "572613e2-3c7c-401d-926e-85393d403c05",
   "metadata": {},
   "outputs": [
    {
     "data": {
      "text/plain": [
       "\"hh.hkhhhh\\n.........\\n....c...p\\nh.h.h.h.h\\n.........\\n....N..R.\\nH.H...HpH\\n.......H.\\n.........\\nHHHHKHHHH (from white's eyes) Hash: 2669196946294045737\\n\""
      ]
     },
     "execution_count": 14,
     "metadata": {},
     "output_type": "execute_result"
    }
   ],
   "source": [
    "pos2.DebugString()"
   ]
  },
  {
   "cell_type": "code",
   "execution_count": 18,
   "id": "e240d6c9-3a63-47da-82ec-6df221bb1270",
   "metadata": {},
   "outputs": [],
   "source": [
    "board = pos2.GetBoard()"
   ]
  },
  {
   "cell_type": "code",
   "execution_count": 7,
   "id": "8cb76341-54a7-4e23-bfc2-089c0c070518",
   "metadata": {},
   "outputs": [
    {
     "data": {
      "text/plain": [
       "True"
      ]
     },
     "execution_count": 7,
     "metadata": {},
     "output_type": "execute_result"
    }
   ],
   "source": [
    "board.ApplyMove(game.Move(\"h4h9\",False))"
   ]
  },
  {
   "cell_type": "code",
   "execution_count": 20,
   "id": "5dac88b3-00fe-446c-93a2-5bb0befa506e",
   "metadata": {},
   "outputs": [
    {
     "name": "stdout",
     "output_type": "stream",
     "text": [
      "hh.hkhhhh\n",
      ".........\n",
      "....c...p\n",
      "h.h.h.h.h\n",
      ".........\n",
      "....N..R.\n",
      "H.H...HpH\n",
      ".......H.\n",
      ".........\n",
      "HHHHKHHHH (from white's eyes) Hash: 2669196946294045737\n",
      "\n"
     ]
    }
   ],
   "source": [
    "print(board.DebugString())"
   ]
  },
  {
   "cell_type": "code",
   "execution_count": 10,
   "id": "354ed54b-b190-4e6a-8a5b-4e1cd2dfe3c7",
   "metadata": {},
   "outputs": [
    {
     "data": {
      "text/plain": [
       "True"
      ]
     },
     "execution_count": 10,
     "metadata": {},
     "output_type": "execute_result"
    }
   ],
   "source": [
    "board.captured()"
   ]
  },
  {
   "cell_type": "code",
   "execution_count": 17,
   "id": "1ebf1702-a4a7-4ffb-958f-bfa3e50f2294",
   "metadata": {},
   "outputs": [],
   "source": [
    "a = game.BoardSquare(\"h4\",False)"
   ]
  },
  {
   "cell_type": "code",
   "execution_count": 19,
   "id": "e020e67d-a813-4f44-b50f-986a133d5f40",
   "metadata": {},
   "outputs": [
    {
     "data": {
      "text/plain": [
       "<PieceType.ROOK: 0>"
      ]
     },
     "execution_count": 19,
     "metadata": {},
     "output_type": "execute_result"
    }
   ],
   "source": [
    "board.at(a)"
   ]
  },
  {
   "cell_type": "code",
   "execution_count": 21,
   "id": "0f172624-648a-4b62-ac6f-928cfd2745d0",
   "metadata": {},
   "outputs": [
    {
     "data": {
      "text/plain": [
       "<PieceType.DARK: 10>"
      ]
     },
     "execution_count": 21,
     "metadata": {},
     "output_type": "execute_result"
    }
   ],
   "source": [
    "board.at(game.BoardSquare(\"h9\",False))"
   ]
  },
  {
   "cell_type": "code",
   "execution_count": 22,
   "id": "2c2837cb-9770-44b7-93ca-3a1044790180",
   "metadata": {},
   "outputs": [
    {
     "data": {
      "text/plain": [
       "True"
      ]
     },
     "execution_count": 22,
     "metadata": {},
     "output_type": "execute_result"
    }
   ],
   "source": [
    "board.ApplyMove(game.Move(\"h4h9\",False))"
   ]
  },
  {
   "cell_type": "code",
   "execution_count": 23,
   "id": "fab524a0-a73b-412a-9c04-161fcc59dfb4",
   "metadata": {},
   "outputs": [
    {
     "name": "stdout",
     "output_type": "stream",
     "text": [
      "hh.hkhhHh\n",
      ".........\n",
      "....c...p\n",
      "h.h.h.h.h\n",
      ".........\n",
      "....N....\n",
      "H.H...HpH\n",
      ".......H.\n",
      ".........\n",
      "HHHHKHHHH (from white's eyes) Hash: 1263642802123034314\n",
      "\n"
     ]
    }
   ],
   "source": [
    "print(board.DebugString())"
   ]
  },
  {
   "cell_type": "code",
   "execution_count": null,
   "id": "6a8ef54a-8cf6-419c-b170-5bbb7da61b25",
   "metadata": {},
   "outputs": [],
   "source": []
  }
 ],
 "metadata": {
  "kernelspec": {
   "display_name": "Python 3 (ipykernel)",
   "language": "python",
   "name": "python3"
  },
  "language_info": {
   "codemirror_mode": {
    "name": "ipython",
    "version": 3
   },
   "file_extension": ".py",
   "mimetype": "text/x-python",
   "name": "python",
   "nbconvert_exporter": "python",
   "pygments_lexer": "ipython3",
   "version": "3.12.2"
  }
 },
 "nbformat": 4,
 "nbformat_minor": 5
}
