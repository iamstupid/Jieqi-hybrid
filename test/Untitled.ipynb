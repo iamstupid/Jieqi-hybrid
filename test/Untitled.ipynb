{
 "cells": [
  {
   "cell_type": "code",
   "execution_count": 1,
   "id": "cb71de8b-8b42-4967-9af7-1b72f5fbd3d3",
   "metadata": {},
   "outputs": [],
   "source": [
    "import jieqi_game as game"
   ]
  },
  {
   "cell_type": "code",
   "execution_count": 2,
   "id": "eb2dd493-4cf8-44f9-bc33-e05cb201a291",
   "metadata": {},
   "outputs": [],
   "source": [
    "a = game.BoardSquare(10)"
   ]
  },
  {
   "cell_type": "code",
   "execution_count": 5,
   "id": "b58c9662-8e67-4fd6-aeda-911344df3d48",
   "metadata": {},
   "outputs": [
    {
     "data": {
      "text/plain": [
       "<BoardSquare b1>"
      ]
     },
     "execution_count": 5,
     "metadata": {},
     "output_type": "execute_result"
    }
   ],
   "source": [
    "a"
   ]
  },
  {
   "cell_type": "code",
   "execution_count": 3,
   "id": "50c4377b-88d4-4130-9f26-4efac3605795",
   "metadata": {},
   "outputs": [],
   "source": [
    "ph = game.PositionHistory()"
   ]
  },
  {
   "cell_type": "code",
   "execution_count": 4,
   "id": "12127d58-e256-4f9f-a9e2-abbb7b19f75c",
   "metadata": {},
   "outputs": [
    {
     "data": {
      "text/plain": [
       "0"
      ]
     },
     "execution_count": 4,
     "metadata": {},
     "output_type": "execute_result"
    }
   ],
   "source": [
    "ph.GetLength()"
   ]
  },
  {
   "cell_type": "code",
   "execution_count": 2,
   "id": "7b97d715-f9c6-45fb-981a-fabd855c1abe",
   "metadata": {},
   "outputs": [],
   "source": [
    "defaultGame = game.ChessBoard(game.ChessBoard.hStartposFen)"
   ]
  },
  {
   "cell_type": "code",
   "execution_count": 3,
   "id": "055b5016-e8a3-4037-ac4b-d8ecc56e0625",
   "metadata": {},
   "outputs": [
    {
     "data": {
      "text/plain": [
       "\"hhhhkhhhh\\n.........\\n.h.....h.\\nh.h.h.h.h\\n.........\\n.........\\nH.H.H.H.H\\n.H.....H.\\n.........\\nHHHHKHHHH (from white's eyes) Hash: 3100638756800517414\\n\""
      ]
     },
     "execution_count": 3,
     "metadata": {},
     "output_type": "execute_result"
    }
   ],
   "source": [
    "defaultGame.DebugString()"
   ]
  },
  {
   "cell_type": "code",
   "execution_count": 5,
   "id": "c5223d34-deaf-4ad3-86b4-95309d2bb634",
   "metadata": {},
   "outputs": [],
   "source": [
    "ml = defaultGame.GenerateLegalMoves()"
   ]
  },
  {
   "cell_type": "code",
   "execution_count": 19,
   "id": "8325963c-4f1e-48f6-b40d-e1eec46af726",
   "metadata": {},
   "outputs": [
    {
     "data": {
      "text/plain": [
       "<Move a0a1>"
      ]
     },
     "execution_count": 19,
     "metadata": {},
     "output_type": "execute_result"
    }
   ],
   "source": [
    "ml[0]"
   ]
  },
  {
   "cell_type": "code",
   "execution_count": 7,
   "id": "6512e35b-d952-426b-8de3-cb03f5654c58",
   "metadata": {},
   "outputs": [
    {
     "data": {
      "text/plain": [
       "46"
      ]
     },
     "execution_count": 7,
     "metadata": {},
     "output_type": "execute_result"
    }
   ],
   "source": [
    "len(ml)"
   ]
  },
  {
   "cell_type": "code",
   "execution_count": 9,
   "id": "d219f555-0218-4fd7-885b-f0edf5c3f5de",
   "metadata": {},
   "outputs": [],
   "source": [
    "defaultPos = game.Position(defaultGame,0,0)"
   ]
  },
  {
   "cell_type": "code",
   "execution_count": 10,
   "id": "d45063a9-5134-4a80-be47-279bad46d310",
   "metadata": {},
   "outputs": [
    {
     "data": {
      "text/plain": [
       "<Position ply=0 black_to_move=0>"
      ]
     },
     "execution_count": 10,
     "metadata": {},
     "output_type": "execute_result"
    }
   ],
   "source": [
    "defaultPos"
   ]
  },
  {
   "cell_type": "code",
   "execution_count": 11,
   "id": "0d722087-cd2f-4b7a-af17-ce3bfc4ad0f6",
   "metadata": {},
   "outputs": [
    {
     "data": {
      "text/plain": [
       "\"hhhhkhhhh\\n.........\\n.h.....h.\\nh.h.h.h.h\\n.........\\n.........\\nH.H.H.H.H\\n.H.....H.\\n.........\\nHHHHKHHHH (from white's eyes) Hash: 3100638756800517414\\n\""
      ]
     },
     "execution_count": 11,
     "metadata": {},
     "output_type": "execute_result"
    }
   ],
   "source": [
    "defaultPos.DebugString()"
   ]
  },
  {
   "cell_type": "code",
   "execution_count": 16,
   "id": "ef147c00-8a16-48a1-a7c5-3a21154c6676",
   "metadata": {},
   "outputs": [],
   "source": [
    "ph = game.PositionHistory()"
   ]
  },
  {
   "cell_type": "code",
   "execution_count": 18,
   "id": "74eae07c-1e22-44a4-a4db-aeeacb61d6db",
   "metadata": {},
   "outputs": [],
   "source": [
    "ph.Reset(defaultGame, 0, 0)"
   ]
  },
  {
   "cell_type": "code",
   "execution_count": 21,
   "id": "900f477f-3753-4bc1-bdd7-1a4299ec16d0",
   "metadata": {},
   "outputs": [],
   "source": [
    "ph.Append(ml[0], game.PieceType.ROOK, game.PieceType.ROOK)"
   ]
  },
  {
   "cell_type": "code",
   "execution_count": 22,
   "id": "1311e2ad-5810-42a8-88af-55eee1aebb61",
   "metadata": {},
   "outputs": [],
   "source": [
    "ah = ph.Last()"
   ]
  },
  {
   "cell_type": "code",
   "execution_count": 23,
   "id": "2194f408-d2c1-4a0a-8b71-b775e83aa41a",
   "metadata": {},
   "outputs": [
    {
     "data": {
      "text/plain": [
       "\".hhhkhhhh\\nr........\\n.h.....h.\\nh.h.h.h.h\\n.........\\n.........\\nH.H.H.H.H\\n.H.....H.\\n.........\\nHHHHKHHHH (from black's eyes) Hash: 1136499784070334394\\n\""
      ]
     },
     "execution_count": 23,
     "metadata": {},
     "output_type": "execute_result"
    }
   ],
   "source": [
    "ah.DebugString()"
   ]
  },
  {
   "cell_type": "code",
   "execution_count": 2,
   "id": "f68b763c-48cd-43a0-94a7-97e3644af50b",
   "metadata": {},
   "outputs": [
    {
     "data": {
      "text/plain": [
       "array([  -1,    9,   12, ..., 2537, 2540,   -1], dtype=int16)"
      ]
     },
     "execution_count": 2,
     "metadata": {},
     "output_type": "execute_result"
    }
   ],
   "source": [
    "game.K_ATTN_POLICY_MAP"
   ]
  },
  {
   "cell_type": "code",
   "execution_count": null,
   "id": "391f4ca8-7608-436b-bd15-c6baecd5a0c5",
   "metadata": {},
   "outputs": [],
   "source": []
  }
 ],
 "metadata": {
  "kernelspec": {
   "display_name": "Python 3 (ipykernel)",
   "language": "python",
   "name": "python3"
  },
  "language_info": {
   "codemirror_mode": {
    "name": "ipython",
    "version": 3
   },
   "file_extension": ".py",
   "mimetype": "text/x-python",
   "name": "python",
   "nbconvert_exporter": "python",
   "pygments_lexer": "ipython3",
   "version": "3.12.2"
  }
 },
 "nbformat": 4,
 "nbformat_minor": 5
}
