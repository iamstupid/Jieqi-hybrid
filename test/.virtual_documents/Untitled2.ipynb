# -*- coding: utf-8 -*-

def generate_jieqi_moves():
    """
    Jieqi (揭棋) Move Generation Code in Python.

    This script generates all possible geometric moves for each piece type
    from every square on the board. It adheres to Jieqi rules where:
    - Advisors (士) can leave the palace.
    - Elephants (象) can cross the river.

    Assumptions for this context-free generation:
    - No pieces are on the board, so moves that can be blocked (Horse, Elephant)
      are generated without impediment.
    - The special "flying general" and "cannon jump" capture moves are not
      generated as they depend on the board state. The Cannon's non-capturing
      move is identical to the Rook's.
    """
    COLS, ROWS = 9, 10
    COL_CHARS = 'abcdefghi'
    all_moves = set()

    def is_valid(x, y):
        """Checks if a coordinate is on the board."""
        return 0 <= x < COLS and 0 <= y < ROWS

    def to_notation(x, y):
        """Converts coordinates to algebraic notation (e.g., (0,0) -> "a0")."""
        return f"{COL_CHARS[x]}{y}"

    for start_y in range(ROWS):
        for start_x in range(COLS):
            start_notation = to_notation(start_x, start_y)

            # 1. General (将/帅) Moves - 1 step orthogonal
            for dx, dy in [(0, 1), (0, -1), (1, 0), (-1, 0)]:
                end_x, end_y = start_x + dx, start_y + dy
                if is_valid(end_x, end_y):
                    all_moves.add(start_notation + to_notation(end_x, end_y))

            # 2. Advisor (士/仕) Moves - 1 step diagonal (can leave palace in Jieqi)
            for dx, dy in [(1, 1), (1, -1), (-1, 1), (-1, -1)]:
                end_x, end_y = start_x + dx, start_y + dy
                if is_valid(end_x, end_y):
                    all_moves.add(start_notation + to_notation(end_x, end_y))

            # 3. Elephant (象/相) Moves - 2 steps diagonal (can cross river in Jieqi)
            for dx, dy in [(2, 2), (2, -2), (-2, 2), (-2, -2)]:
                end_x, end_y = start_x + dx, start_y + dy
                if is_valid(end_x, end_y):
                    all_moves.add(start_notation + to_notation(end_x, end_y))

            # 4. Horse (马/傌) Moves - L-shape
            for dx, dy in [(1, 2), (1, -2), (-1, 2), (-1, -2),
                           (2, 1), (2, -1), (-2, 1), (-2, -1)]:
                end_x, end_y = start_x + dx, start_y + dy
                if is_valid(end_x, end_y):
                    all_moves.add(start_notation + to_notation(end_x, end_y))

            # 5. Rook (车/俥) and Cannon (炮/砲) Moves - straight lines
            # Horizontal moves
            for x in range(COLS):
                if x != start_x:
                    all_moves.add(start_notation + to_notation(x, start_y))
            # Vertical moves
            for y in range(ROWS):
                if y != start_y:
                    all_moves.add(start_notation + to_notation(start_x, y))

            # 6. Pawn (兵/卒) Moves - considering both Red and Black sides
            # Case 1: Red Pawn perspective (moves from rows 0-4 towards 9)
            red_river_y = 4
            if is_valid(start_x, start_y + 1): # Forward
                all_moves.add(start_notation + to_notation(start_x, start_y + 1))
            if start_y > red_river_y: # Sideways (if across river)
                if is_valid(start_x + 1, start_y):
                    all_moves.add(start_notation + to_notation(start_x + 1, start_y))
                if is_valid(start_x - 1, start_y):
                    all_moves.add(start_notation + to_notation(start_x - 1, start_y))

            # Case 2: Black Pawn perspective (moves from rows 9-5 towards 0)
            black_river_y = 5
            if is_valid(start_x, start_y - 1): # Forward
                all_moves.add(start_notation + to_notation(start_x, start_y - 1))
            if start_y < black_river_y: # Sideways (if across river)
                if is_valid(start_x + 1, start_y):
                    all_moves.add(start_notation + to_notation(start_x + 1, start_y))
                if is_valid(start_x - 1, start_y):
                    all_moves.add(start_notation + to_notation(start_x - 1, start_y))

    # Convert set to a sorted list
    sorted_moves = sorted(list(all_moves))

    # Format the final output string
    output_str = "K_IDX_TO_MOVE = [\n    "
    moves_per_line = 15
    for i, move in enumerate(sorted_moves):
        output_str += f'"{move}", '
        if (i + 1) % moves_per_line == 0 and i < len(sorted_moves) - 1:
            output_str += "\n    "
    # Remove trailing comma and space if exists
    if output_str.endswith(", "):
        output_str = output_str[:-2]
    output_str += "\n]"

    return output_str

if __name__ == "__main__":
    generated_code = generate_jieqi_moves()
    print(generated_code)


# -*- coding: utf-8 -*-

def generate_jieqi_moves_list():
    """
    Generates and returns the sorted list of all possible Jieqi moves.
    This is the function from the previous step.
    """
    COLS, ROWS = 9, 10
    COL_CHARS = 'abcdefghi'
    all_moves = set()

    def is_valid(x, y):
        return 0 <= x < COLS and 0 <= y < ROWS

    def to_notation(x, y):
        return f"{COL_CHARS[x]}{y}"

    for start_y in range(ROWS):
        for start_x in range(COLS):
            start_notation = to_notation(start_x, start_y)
            # General
            for dx, dy in [(0, 1), (0, -1), (1, 0), (-1, 0)]:
                if is_valid(start_x + dx, start_y + dy):
                    all_moves.add(start_notation + to_notation(start_x + dx, start_y + dy))
            # Advisor
            for dx, dy in [(1, 1), (1, -1), (-1, 1), (-1, -1)]:
                if is_valid(start_x + dx, start_y + dy):
                    all_moves.add(start_notation + to_notation(start_x + dx, start_y + dy))
            # Elephant
            for dx, dy in [(2, 2), (2, -2), (-2, 2), (-2, -2)]:
                if is_valid(start_x + dx, start_y + dy):
                    all_moves.add(start_notation + to_notation(start_x + dx, start_y + dy))
            # Horse
            for dx, dy in [(1, 2), (1, -2), (-1, 2), (-1, -2), (2, 1), (2, -1), (-2, 1), (-2, -1)]:
                if is_valid(start_x + dx, start_y + dy):
                    all_moves.add(start_notation + to_notation(start_x + dx, start_y + dy))
            # Rook & Cannon
            for x in range(COLS):
                if x != start_x: all_moves.add(start_notation + to_notation(x, start_y))
            for y in range(ROWS):
                if y != start_y: all_moves.add(start_notation + to_notation(start_x, y))
            # Pawn
            if is_valid(start_x, start_y + 1): all_moves.add(start_notation + to_notation(start_x, start_y + 1))
            if start_y > 4:
                if is_valid(start_x + 1, start_y): all_moves.add(start_notation + to_notation(start_x + 1, start_y))
                if is_valid(start_x - 1, start_y): all_moves.add(start_notation + to_notation(start_x - 1, start_y))
            if is_valid(start_x, start_y - 1): all_moves.add(start_notation + to_notation(start_x, start_y - 1))
            if start_y < 5:
                if is_valid(start_x + 1, start_y): all_moves.add(start_notation + to_notation(start_x + 1, start_y))
                if is_valid(start_x - 1, start_y): all_moves.add(start_notation + to_notation(start_x - 1, start_y))

    return sorted(list(all_moves))


def generate_reverse_map(moves_list):
    """
    Generates the kAttnPolicyMap reverse mapping from a list of moves.
    """
    COLS, ROWS = 9, 10
    NUM_SQUARES = COLS * ROWS
    MAP_SIZE = NUM_SQUARES * NUM_SQUARES
    COL_CHARS = 'abcdefghi'
    CHAR_TO_X = {c: i for i, c in enumerate(COL_CHARS)}

    def parse_square_to_id(s):
        """Converts a square notation string (e.g., "a0") to its unique ID (0-89)."""
        x = CHAR_TO_X[s[0]]
        y = int(s[1:])
        return x + y * COLS

    # 1. Initialize the map with -1
    policy_map = [-1] * MAP_SIZE

    # 2. Iterate through the move list and populate the map
    for move_idx, move_str in enumerate(moves_list):
        from_str, to_str = move_str[0:2], move_str[2:4]
        
        from_id = parse_square_to_id(from_str)
        to_id = parse_square_to_id(to_str)
        
        # Calculate the final index in the 1D map
        map_idx = from_id * NUM_SQUARES + to_id
        
        policy_map[map_idx] = move_idx
        
    # 3. Format the output to match the desired C-style array
    output_str = "kAttnPolicyMap[] = {\n"
    items_per_line = 15
    for i, val in enumerate(policy_map):
        if i % items_per_line == 0:
            output_str += "    "
        
        # str(val).rjust(5) pads the number with spaces for alignment
        output_str += str(val).rjust(5)
        
        if i < len(policy_map) - 1:
            output_str += ","
        
        if (i + 1) % items_per_line == 0 and i < len(policy_map) - 1:
            output_str += "\n"
            
    output_str += "\n};"
    return output_str


if __name__ == "__main__":
    # First, generate the canonical list of moves
    k_idx_to_move = generate_jieqi_moves_list()
    
    # Then, generate the reverse map based on that list
    k_attn_policy_map_code = generate_reverse_map(k_idx_to_move)
    
    print(f"// Generated from a list of {len(k_idx_to_move)} unique moves.")
    print(f"// Map size: 90*90 = {len(k_attn_policy_map_code.split(',')) -1}\n") # Approximate count
    print(k_attn_policy_map_code)



