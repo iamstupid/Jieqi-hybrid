import startpos


pos = startpos.GenerateStartingPosition()


pos


pos.Last()


po = pos.Last()


po.our_dark().pieces


po.DebugString()


po.their_dark().pieces


import jieqi_game as game


po.set_viewpoint(game.ViewPoint.VP_RED)


po.our_dark()



