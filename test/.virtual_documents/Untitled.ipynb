import jieqi_game as game


a = game.BoardSquare(10)


a


ph = game.PositionHistory()


ph.GetLength()


defaultGame = game.ChessBoard(game.ChessBoard.hStartposFen)


defaultGame.DebugString()


ml = defaultGame.GenerateLegalMoves()


ml[0]


len(ml)


defaultPos = game.Position(defaultGame,0,0)


defaultPos


defaultPos.DebugString()


ph = game.PositionHistory()


ph.Reset(defaultGame, 0, 0)


ph.Append(ml[0], game.PieceType.ROOK, game.PieceType.ROOK)


ah = ph.Last()


ah.DebugString()


game.K_ATTN_POLICY_MAP



