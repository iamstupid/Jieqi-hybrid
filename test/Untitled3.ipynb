{
 "cells": [
  {
   "cell_type": "code",
   "execution_count": 1,
   "id": "7bbd12d0-2b93-410d-896b-f8623d8352d4",
   "metadata": {},
   "outputs": [],
   "source": [
    "import startpos"
   ]
  },
  {
   "cell_type": "code",
   "execution_count": 2,
   "id": "4af1bbc1-f2ac-4193-9b1a-90ac7482c356",
   "metadata": {},
   "outputs": [],
   "source": [
    "pos = startpos.GenerateStartingPosition()"
   ]
  },
  {
   "cell_type": "code",
   "execution_count": 3,
   "id": "a43934fc-b66f-44b9-9117-bff63397ab18",
   "metadata": {},
   "outputs": [
    {
     "data": {
      "text/plain": [
       "<PositionHistory length=101>"
      ]
     },
     "execution_count": 3,
     "metadata": {},
     "output_type": "execute_result"
    }
   ],
   "source": [
    "pos"
   ]
  },
  {
   "cell_type": "code",
   "execution_count": 4,
   "id": "6260699a-6950-4eb4-a16a-08a26f327e63",
   "metadata": {},
   "outputs": [
    {
     "data": {
      "text/plain": [
       "<Position ply=100 black_to_move=0>"
      ]
     },
     "execution_count": 4,
     "metadata": {},
     "output_type": "execute_result"
    }
   ],
   "source": [
    "pos.Last()"
   ]
  },
  {
   "cell_type": "code",
   "execution_count": 5,
   "id": "9ef214bb-cf83-4782-825f-79e9b564fa82",
   "metadata": {},
   "outputs": [],
   "source": [
    "po = pos.Last()"
   ]
  },
  {
   "cell_type": "code",
   "execution_count": 7,
   "id": "2d503dc6-aef8-4913-b90f-5917404fecd3",
   "metadata": {},
   "outputs": [
    {
     "data": {
      "text/plain": [
       "'p'"
      ]
     },
     "execution_count": 7,
     "metadata": {},
     "output_type": "execute_result"
    }
   ],
   "source": [
    "po.our_dark().pieces"
   ]
  },
  {
   "cell_type": "code",
   "execution_count": 10,
   "id": "2b5db109-9f79-444e-ac12-f013dc105658",
   "metadata": {},
   "outputs": [
    {
     "data": {
      "text/plain": [
       "\"...h..c..\\n...k.n...\\nb...n...p\\n.a....h..\\n.A.C.....\\np..pR....\\n....b..b.\\n...BA.P..\\n......N..\\n....K.NH. (from white's eyes) Hash: 13552067096419976197\\n\""
      ]
     },
     "execution_count": 10,
     "metadata": {},
     "output_type": "execute_result"
    }
   ],
   "source": [
    "po.DebugString()"
   ]
  },
  {
   "cell_type": "code",
   "execution_count": 11,
   "id": "c294f538-3e86-4b8e-bc93-f9694ffd4501",
   "metadata": {},
   "outputs": [
    {
     "data": {
      "text/plain": [
       "'ac'"
      ]
     },
     "execution_count": 11,
     "metadata": {},
     "output_type": "execute_result"
    }
   ],
   "source": [
    "po.their_dark().pieces"
   ]
  },
  {
   "cell_type": "code",
   "execution_count": 12,
   "id": "68f80ac6-025f-41c5-bdac-4bd97a2b3c81",
   "metadata": {},
   "outputs": [],
   "source": [
    "import jieqi_game as game"
   ]
  },
  {
   "cell_type": "code",
   "execution_count": 16,
   "id": "ff484137-7b81-4b58-801b-6e2f69158c38",
   "metadata": {},
   "outputs": [],
   "source": [
    "po.set_viewpoint(game.ViewPoint.VP_RED)"
   ]
  },
  {
   "cell_type": "code",
   "execution_count": 17,
   "id": "df4b8095-7bae-4e8a-a121-46b027b87742",
   "metadata": {},
   "outputs": [
    {
     "data": {
      "text/plain": [
       "'bp'"
      ]
     },
     "execution_count": 17,
     "metadata": {},
     "output_type": "execute_result"
    }
   ],
   "source": []
  },
  {
   "cell_type": "code",
   "execution_count": null,
   "id": "09e17aec-4671-44e0-9b87-3cc754f34fb2",
   "metadata": {},
   "outputs": [],
   "source": [
    "game.PositionHistory"
   ]
  }
 ],
 "metadata": {
  "kernelspec": {
   "display_name": "Python 3 (ipykernel)",
   "language": "python",
   "name": "python3"
  },
  "language_info": {
   "codemirror_mode": {
    "name": "ipython",
    "version": 3
   },
   "file_extension": ".py",
   "mimetype": "text/x-python",
   "name": "python",
   "nbconvert_exporter": "python",
   "pygments_lexer": "ipython3",
   "version": "3.12.2"
  }
 },
 "nbformat": 4,
 "nbformat_minor": 5
}
