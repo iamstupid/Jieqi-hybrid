import jieqi_game as game


a = game.BoardSquare(10)


game


game.m


import jieqi_game


jieqi_game



